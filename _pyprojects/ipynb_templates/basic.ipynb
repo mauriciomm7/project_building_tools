{
 "cells": [
  {
   "cell_type": "markdown",
   "metadata": {},
   "source": [
    "# NB00: INSERT YOUR TITLE HERE\n"
   ]
  },
  {
   "cell_type": "code",
   "execution_count": null,
   "metadata": {
    "vscode": {
     "languageId": "plaintext"
    }
   },
   "outputs": [],
   "source": []
  },
  {
   "cell_type": "markdown",
   "metadata": {},
   "source": [
    "## Environment and Visual Settings"
   ]
  },
  {
   "cell_type": "code",
   "execution_count": null,
   "metadata": {},
   "outputs": [],
   "source": [
    "# Required Libraries\n",
    "import os \n",
    "import glob\n",
    "import shutil\n",
    "import json\n",
    "import sys\n",
    "import time\n",
    "import pandas as pd\n",
    "import re\n",
    "import requests\n",
    "from bs4 import BeautifulSoup\n",
    "import html2text\n",
    "import roman\n"
   ]
  },
  {
   "cell_type": "code",
   "execution_count": null,
   "metadata": {},
   "outputs": [],
   "source": [
    "# OPTIONAL Visual Settings\n",
    "# from IPython.core.display import HTML\n",
    "# HTML(r\"\"\"\n",
    "# <style>\n",
    "#     .output-plaintext, .output-stream, .output {\n",
    "#         font-family: 'JetBrains Mono Thin', monospace; /* Ensure the font is properly specified */\n",
    "#         line-height: 1.3 !important;\n",
    "#         font-size: 13px !important;\n",
    "#     }\n",
    "# </style>\n",
    "# \"\"\")"
   ]
  },
  {
   "cell_type": "markdown",
   "metadata": {},
   "source": [
    "## Main Section"
   ]
  }
 ],
 "metadata": {
  "language_info": {
   "name": "python"
  }
 },
 "nbformat": 4,
 "nbformat_minor": 2
}
