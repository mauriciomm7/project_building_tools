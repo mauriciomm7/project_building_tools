{
 "cells": [
  {
   "cell_type": "markdown",
   "metadata": {},
   "source": [
    "---\n",
    "title: \"Project name\"\n",
    "author: \"Mauricio M. M.\"\n",
    "date: 2024-07-29\n",
    "description: >\n",
    "  This document was created for {AIM OF THIS PROJECT} such that {DESCRIPTION}.\n",
    "format:\n",
    "  html:\n",
    "    theme: journal\n",
    "    code-copy: true\n",
    "    code-fold: true\n",
    "    toc: true\n",
    "    toc-location: right \n",
    "    embed-resources: false\n",
    "execute:\n",
    "  echo: true\n",
    "  eval: true\n",
    "options:\n",
    "  warning: false\n",
    "  message: false\n",
    "html-math-method: mathjax\n",
    "fig-cap-location: margin \n",
    "reference-location: margin\n",
    "include-in-header: \n",
    "  text: |\n",
    "    \\usepackage{fvextra}\n",
    "    \\DefineVerbatimEnvironment{Highlighting}{Verbatim}{breaklines,commandchars=\\\\\\{\\}}\n",
    "bibliography: mybibfile.bib\n",
    "---"
   ]
  },
  {
   "cell_type": "markdown",
   "metadata": {},
   "source": [
    "## Environment and Visual Settings"
   ]
  },
  {
   "cell_type": "code",
   "execution_count": null,
   "metadata": {},
   "outputs": [],
   "source": [
    "# Required Libraries\n",
    "import os \n",
    "import glob\n",
    "import shutil\n",
    "import json\n",
    "import sys\n",
    "import time\n",
    "import pandas as pd\n",
    "import re\n",
    "import requests\n",
    "from bs4 import BeautifulSoup\n",
    "import html2text\n",
    "import roman\n"
   ]
  },
  {
   "cell_type": "code",
   "execution_count": null,
   "metadata": {},
   "outputs": [],
   "source": [
    "# OPTIONAL Visual Settings\n",
    "# from IPython.core.display import HTML\n",
    "# HTML(r\"\"\"\n",
    "# <style>\n",
    "#     .output-plaintext, .output-stream, .output {\n",
    "#         font-family: 'JetBrains Mono Thin', monospace; /* Ensure the font is properly specified */\n",
    "#         line-height: 1.3 !important;\n",
    "#         font-size: 13px !important;\n",
    "#     }\n",
    "# </style>\n",
    "# \"\"\")"
   ]
  },
  {
   "cell_type": "markdown",
   "metadata": {},
   "source": [
    "## Main Section"
   ]
  }
 ],
 "metadata": {
  "kernelspec": {
   "display_name": "blacksmith",
   "language": "python",
   "name": "python3"
  },
  "language_info": {
   "name": "python",
   "version": "3.12.4"
  }
 },
 "nbformat": 4,
 "nbformat_minor": 2
}
