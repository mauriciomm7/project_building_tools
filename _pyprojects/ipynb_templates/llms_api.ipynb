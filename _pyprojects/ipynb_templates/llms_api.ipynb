{
 "cells": [
  {
   "cell_type": "markdown",
   "metadata": {},
   "source": [
    "# NB00: INSERT YOUR TITLE HERE\n"
   ]
  },
  {
   "cell_type": "code",
   "execution_count": null,
   "metadata": {
    "vscode": {
     "languageId": "plaintext"
    }
   },
   "outputs": [],
   "source": []
  },
  {
   "cell_type": "markdown",
   "metadata": {},
   "source": [
    "## Environment and Visual Settings"
   ]
  },
  {
   "cell_type": "code",
   "execution_count": null,
   "metadata": {},
   "outputs": [],
   "source": [
    "import os\n",
    "import sys\n",
    "import zipfile\n",
    "import ast\n",
    "import re\n",
    "import random\n",
    "import numpy as np\n",
    "import pandas as pd\n",
    "from pathlib import Path\n",
    "from dotenv import load_dotenv\n",
    "from openai import OpenAI\n"
   ]
  },
  {
   "cell_type": "markdown",
   "metadata": {},
   "source": [
    "## SET API KEYS"
   ]
  },
  {
   "cell_type": "code",
   "execution_count": null,
   "metadata": {},
   "outputs": [],
   "source": [
    "# Load environment variables from .env file\n",
    "SECRETS_FILE = Path(r\"C:\\LocalSecrets\\master.env\")\n",
    "load_dotenv(str(SECRETS_FILE))\n",
    "# ASSIGN the values of the environment variables\n",
    "organization = os.getenv('OPENAI_ORGANIZATION')\n",
    "project = os.getenv('OPENAI_PROJECT')\n",
    "api_key = os.getenv('OPENAI_UIO24EMC_KEY')\n",
    "\n",
    "# print(f\"Organization: {organization}\")\n",
    "# print(f\"Project: {project}\")\n",
    "\n",
    "# Initialize the OpenAI client with the environment variables'\n",
    "client = OpenAI(\n",
    "    organization=organization,\n",
    "    project=project,\n",
    "    api_key=api_key\n",
    "    )"
   ]
  },
  {
   "cell_type": "markdown",
   "metadata": {},
   "source": [
    "## Main Section"
   ]
  }
 ],
 "metadata": {
  "language_info": {
   "name": "python"
  }
 },
 "nbformat": 4,
 "nbformat_minor": 2
}
